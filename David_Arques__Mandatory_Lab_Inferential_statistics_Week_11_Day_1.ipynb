{
  "nbformat": 4,
  "nbformat_minor": 0,
  "metadata": {
    "colab": {
      "provenance": []
    },
    "kernelspec": {
      "name": "python3",
      "display_name": "Python 3"
    },
    "language_info": {
      "name": "python"
    }
  },
  "cells": [
    {
      "cell_type": "markdown",
      "source": [
        "# Lab | Inferential statistics"
      ],
      "metadata": {
        "id": "2xRJ1Wi9PcIS"
      }
    },
    {
      "cell_type": "markdown",
      "source": [
        "**Instructions**\n",
        "\n",
        "1. It is assumed that the mean systolic blood pressure is μ = 120 mm Hg. In the Honolulu Heart Study, a sample of n = 100 people had an average systolic blood pressure of 130.1 mm Hg with a standard deviation of 21.21 mm Hg. Is the group significantly different (with respect to systolic blood pressure!) from the regular population?\n",
        "\n",
        "* Set up the hypothesis test.\n",
        "* Write down all the steps followed for setting up the test.\n",
        "* Calculate the test statistic by hand and also code it in Python. It should be 4.76190. We will take a look at how to make decisions based on this calculated value."
      ],
      "metadata": {
        "id": "wUI6Wx1yPfyT"
      }
    },
    {
      "cell_type": "code",
      "execution_count": 1,
      "metadata": {
        "id": "uD5-NWSXPPq7"
      },
      "outputs": [],
      "source": [
        "#Libraries\n",
        "import math\n",
        "import pandas as pd\n",
        "import numpy as np\n",
        "import matplotlib.pyplot as plt\n",
        "import scipy.stats as st"
      ]
    },
    {
      "cell_type": "code",
      "source": [
        "# Data:\n",
        "mu = 120\n",
        "n = 100 #sample\n",
        "std = 21.21 #standard deviation\n",
        "sample_mean = 130.1"
      ],
      "metadata": {
        "id": "0mGxx8vLPw4g"
      },
      "execution_count": 2,
      "outputs": []
    },
    {
      "cell_type": "code",
      "source": [
        "# Statistic (t-test) because we have std of the sample:\n",
        "statistic = (sample_mean - mu)/(std/math.sqrt(n))\n",
        "statistic"
      ],
      "metadata": {
        "colab": {
          "base_uri": "https://localhost:8080/"
        },
        "id": "CAb4LXiMQeLo",
        "outputId": "6d9a4c86-a8e0-4c85-82d5-4742e60a1d0a"
      },
      "execution_count": 6,
      "outputs": [
        {
          "output_type": "execute_result",
          "data": {
            "text/plain": [
              "4.761904761904759"
            ]
          },
          "metadata": {},
          "execution_count": 6
        }
      ]
    },
    {
      "cell_type": "code",
      "source": [
        "# Get the critical value:\n",
        "cv = st.norm.ppf(.05)\n",
        "cv"
      ],
      "metadata": {
        "colab": {
          "base_uri": "https://localhost:8080/"
        },
        "id": "HdOfJaRkQ0YG",
        "outputId": "3ae3f769-8321-4d68-b7f9-54835dbb235c"
      },
      "execution_count": 4,
      "outputs": [
        {
          "output_type": "execute_result",
          "data": {
            "text/plain": [
              "-1.6448536269514729"
            ]
          },
          "metadata": {},
          "execution_count": 4
        }
      ]
    },
    {
      "cell_type": "code",
      "source": [
        "# Calculate p-value:\n",
        "p_value = st.t.sf(abs(statistic), n-1)*2\n",
        "p_value"
      ],
      "metadata": {
        "colab": {
          "base_uri": "https://localhost:8080/"
        },
        "id": "IggW9NwjTmfz",
        "outputId": "dc683a79-a7ed-4bd9-df73-79000f63d907"
      },
      "execution_count": 8,
      "outputs": [
        {
          "output_type": "execute_result",
          "data": {
            "text/plain": [
              "6.562701817208617e-06"
            ]
          },
          "metadata": {},
          "execution_count": 8
        }
      ]
    }
  ]
}